{
 "cells": [
  {
   "cell_type": "code",
   "execution_count": 1,
   "id": "c5b21c55-c011-43dd-8d65-5b69c1d9cfc4",
   "metadata": {},
   "outputs": [],
   "source": [
    "# exploration of next-gen-scraPy 2.0\n",
    "#  as currently unable to obtain data from running scripts\n",
    "\n",
    "# REF: \n",
    "# Author: Sarah Mallepalle (updated to work in Python 3 by Ethan Douglas)\n",
    "# - https://arxiv.org/abs/1906.03339\n",
    "# - https://github.com/ArrowheadAnalytics/next-gen-scrapy-2.0\n"
   ]
  },
  {
   "cell_type": "code",
   "execution_count": 2,
   "id": "fd4adb25-4752-44bb-8065-b4e3347b5311",
   "metadata": {},
   "outputs": [],
   "source": [
    "## Import \n",
    "import re\n",
    "import requests\n",
    "import json\n",
    "import bs4 as bs\n",
    "import os\n",
    "import urllib"
   ]
  },
  {
   "cell_type": "code",
   "execution_count": 3,
   "id": "245350c8-88d8-44d7-b803-ac704a4f7fc4",
   "metadata": {},
   "outputs": [],
   "source": [
    "season = '2020'\n",
    "week = '2'\n",
    "teams = {\"arizona-cardinals\":\"3800\",\n",
    "         \"atlanta-falcons\":\"0200\",\n",
    "         \"baltimore-ravens\":\"0325\",\n",
    "         \"buffalo-bills\":\"0610\",\n",
    "         \"carolina-panthers\":\"0750\",\n",
    "         \"chicago-bears\":\"0810\",\n",
    "         \"cincinnati-bengals\":\"0920\",\n",
    "         \"cleveland-browns\":\"1050\",\n",
    "         \"dallas-cowboys\":\"1200\",\n",
    "         \"denver-broncos\":\"1400\",\n",
    "         \"detroit-lions\":\"1540\",\n",
    "         \"green-bay-packers\":\"1800\",\n",
    "         \"houston-texans\":\"2120\",\n",
    "         \"indianapolis-colts\":\"2200\",\n",
    "         \"jacksonville-jaguars\":\"2250\",\n",
    "         \"kansas-city-chiefs\":\"2310\",\n",
    "         \"los-angeles-chargers\":\"4400\",\n",
    "         \"los-angeles-rams\":\"2510\",\n",
    "         \"miami-dolphins\":\"2700\",\n",
    "         \"minnesota-vikings\":\"3000\",\n",
    "         \"new-england-patriots\":\"3200\",\n",
    "         \"new-orleans-saints\":\"3300\",\n",
    "         \"new-york-giants\":\"3410\",\n",
    "         \"new-york-jets\":\"3430\",\n",
    "         \"las-vegas-raiders\":\"2520\",\n",
    "         \"philadelphia-eagles\":\"3700\",\n",
    "         \"pittsburgh-steelers\":\"3900\",\n",
    "         \"san-francisco-49ers\":\"4500\",\n",
    "         \"seattle-seahawks\":\"4600\",\n",
    "         \"tampabay-buccaneers\":\"4900\",\n",
    "         \"tennessee-titans\":\"2100\",\n",
    "         \"washington-commanders\":\"5110\"\n",
    "        }\n",
    "\n",
    "\n",
    "team_name = 'arizona-cardinals'\n",
    "URL = f'https://nextgenstats.nfl.com/api/content/microsite/chart?count=2&week={week}&type=pass&teamId={teams[team_name]}&esbId=all&season={season}'\n",
    "headers= {\"Accept\":\"application/json, text/plain, */*\",\n",
    " \"Host\":\"nextgenstats.nfl.com\",\n",
    " \"Referer\":\"https://nextgenstats.nfl.com/\",\n",
    " \"User-Agent\": \"Mozilla/5.0 (X11; Linux x86_64; rv:104.0) Gecko/20100101 Firefox/104.0\",\n",
    "}\n",
    "\n",
    "r = requests.get(URL, headers=headers)\n",
    "contains_charts = json.loads(r.text)"
   ]
  },
  {
   "cell_type": "code",
   "execution_count": 4,
   "id": "bea73239-76a8-4c11-b4fa-418edf86d29e",
   "metadata": {},
   "outputs": [
    {
     "data": {
      "text/plain": [
       "{'charts': [{'imageName': 'pass-chart_MUR670413_2020-REG-2_1608144570368.jpeg',\n",
       "   'attempts': 38,\n",
       "   'completionPercentage': 68.42105263157895,\n",
       "   'completions': 26,\n",
       "   'esbId': 'MUR670413',\n",
       "   'firstName': 'Kyler',\n",
       "   'gameId': 2020092010,\n",
       "   'headshot': 'https://static.www.nfl.com/image/private/{formatInstructions}/league/t2smnnggjxurpceqwp67',\n",
       "   'interceptions': 1,\n",
       "   'lastName': 'Murray',\n",
       "   'passerRating': 88.3,\n",
       "   'passingYards': 286,\n",
       "   'playerName': 'Kyler Murray',\n",
       "   'position': 'QB',\n",
       "   'season': 2020,\n",
       "   'seasonType': 'REG',\n",
       "   'teamId': '3800',\n",
       "   'timestamp': 1608144572254,\n",
       "   'touchdowns': 1,\n",
       "   'type': 'pass',\n",
       "   'week': 2,\n",
       "   'extraLargeImg': '//charts-cdn-b.nextgenstats.nfl.com/static-charts/1200/pass-chart_MUR670413_2020-REG-2_1608144570368.jpeg',\n",
       "   'playerNameSlug': 'kyler-murray',\n",
       "   'smallImg': '//charts-cdn-b.nextgenstats.nfl.com/static-charts/300/pass-chart_MUR670413_2020-REG-2_1608144570368.jpeg',\n",
       "   'mediumImg': '//charts-cdn-b.nextgenstats.nfl.com/static-charts/600/pass-chart_MUR670413_2020-REG-2_1608144570368.jpeg',\n",
       "   'largeImg': '//charts-cdn-b.nextgenstats.nfl.com/static-charts/900/pass-chart_MUR670413_2020-REG-2_1608144570368.jpeg'}],\n",
       " 'count': 2,\n",
       " 'offset': 0,\n",
       " 'total': 1,\n",
       " 'season': '2020',\n",
       " 'teamId': '3800',\n",
       " 'type': 'pass',\n",
       " 'week': '2',\n",
       " 'seasonType': 'all'}"
      ]
     },
     "execution_count": 4,
     "metadata": {},
     "output_type": "execute_result"
    }
   ],
   "source": [
    "contains_charts"
   ]
  },
  {
   "cell_type": "code",
   "execution_count": 5,
   "id": "51224af0-3dd8-4de1-8c69-305c05311cce",
   "metadata": {},
   "outputs": [],
   "source": [
    "if (contains_charts[\"total\"] != 0):\n",
    "    for chart in contains_charts[\"charts\"]:\n",
    "\n",
    "        name = chart[\"lastName\"] + \"_\" + chart[\"firstName\"] + \"_\" + chart[\"position\"]\n",
    "        chart[\"team\"] = team_name\n",
    "        \n",
    "        folder = str(\"Pass_Charts\" + os.sep + team_name + os.sep + season + os.sep + week + os.sep)\n",
    "        img_folder = folder + \"images\" + os.sep\n",
    "        data_folder = folder + \"data\" + os.sep\n",
    "\n",
    "        if not os.path.exists(img_folder):\n",
    "            os.makedirs(img_folder)\n",
    "        if not os.path.exists(data_folder):\n",
    "            os.makedirs(data_folder)\n",
    "\n",
    "        img_file = img_folder + name + \".jpeg\"\n",
    "        url = \"https:\" + chart[\"extraLargeImg\"]\n",
    "        urllib.request.urlretrieve(url, img_file)\n",
    "\n",
    "        data_file = data_folder + name + \".txt\"\n",
    "        with open(data_file, 'w') as datafile: \n",
    "            json.dump(chart, datafile)"
   ]
  },
  {
   "cell_type": "code",
   "execution_count": null,
   "id": "b7cc3bab-43dd-461d-9409-ff9bc4a27460",
   "metadata": {},
   "outputs": [],
   "source": []
  }
 ],
 "metadata": {
  "kernelspec": {
   "display_name": "Python 3 (ipykernel)",
   "language": "python",
   "name": "python3"
  },
  "language_info": {
   "codemirror_mode": {
    "name": "ipython",
    "version": 3
   },
   "file_extension": ".py",
   "mimetype": "text/x-python",
   "name": "python",
   "nbconvert_exporter": "python",
   "pygments_lexer": "ipython3",
   "version": "3.9.13"
  }
 },
 "nbformat": 4,
 "nbformat_minor": 5
}

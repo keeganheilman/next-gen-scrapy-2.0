{
 "cells": [
  {
   "cell_type": "code",
   "execution_count": null,
   "id": "f4c08506-e24e-4631-b2c0-f1960d1b7e75",
   "metadata": {},
   "outputs": [],
   "source": [
    "# test branch checkout"
   ]
  }
 ],
 "metadata": {
  "kernelspec": {
   "display_name": "Python 3 (ipykernel)",
   "language": "python",
   "name": "python3"
  },
  "language_info": {
   "codemirror_mode": {
    "name": "ipython",
    "version": 3
   },
   "file_extension": ".py",
   "mimetype": "text/x-python",
   "name": "python",
   "nbconvert_exporter": "python",
   "pygments_lexer": "ipython3",
   "version": "3.9.13"
  }
 },
 "nbformat": 4,
 "nbformat_minor": 5
}
